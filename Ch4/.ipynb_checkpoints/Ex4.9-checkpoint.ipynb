{
 "cells": [
  {
   "cell_type": "code",
   "execution_count": 1,
   "metadata": {
    "collapsed": false
   },
   "outputs": [],
   "source": [
    "import matplotlib.pyplot as plt\n",
    "import numpy as np\n",
    "import pandas as pd\n",
    "%matplotlib notebook"
   ]
  },
  {
   "cell_type": "code",
   "execution_count": 2,
   "metadata": {
    "collapsed": true
   },
   "outputs": [],
   "source": [
    "# Load the spam data\n",
    "train_data = pd.read_csv('../data/vowel.train',sep=',')\n",
    "test_data = pd.read_csv('../data/vowel.test',sep=',')"
   ]
  },
  {
   "cell_type": "code",
   "execution_count": 3,
   "metadata": {
    "collapsed": false
   },
   "outputs": [],
   "source": [
    "X_train = train_data[[name for name in train_data.columns.tolist() if name.startswith('x')]].values\n",
    "y_train = train_data['y'].values\n",
    "\n",
    "X_test = test_data[[name for name in test_data.columns.tolist() if name.startswith('x')]].values\n",
    "y_test = test_data['y'].values"
   ]
  },
  {
   "cell_type": "markdown",
   "metadata": {},
   "source": [
    "### Linear regression"
   ]
  },
  {
   "cell_type": "markdown",
   "metadata": {},
   "source": [
    "#### OneHotEncoder and LabelBinarizer seem to do the same thing. LabelBinarizer seems more straightforward to use"
   ]
  },
  {
   "cell_type": "code",
   "execution_count": 4,
   "metadata": {
    "collapsed": false
   },
   "outputs": [],
   "source": [
    "# from sklearn.linear_model import LinearRegression\n",
    "# from sklearn.preprocessing import OneHotEncoder\n",
    "\n",
    "# # One hot encode y\n",
    "\n",
    "# # # onehot encode\n",
    "# y_train_encoded = np.copy(y_train)\n",
    "# onehot_encoder = OneHotEncoder(sparse=False)\n",
    "# y_train_integer_encoded = y_train_encoded.reshape(len(y_train), 1)\n",
    "# y_train_onehot_encoded = onehot_encoder.fit_transform(y_train_integer_encoded)"
   ]
  },
  {
   "cell_type": "code",
   "execution_count": 5,
   "metadata": {
    "collapsed": false
   },
   "outputs": [],
   "source": [
    "from sklearn.preprocessing import LabelBinarizer\n",
    "\n",
    "# Label Binzarizer\n",
    "# # onehot encode\n",
    "label_binarizer = LabelBinarizer()\n",
    "y_train_binarized = label_binarizer.fit_transform(y_train)"
   ]
  },
  {
   "cell_type": "code",
   "execution_count": 6,
   "metadata": {
    "collapsed": false
   },
   "outputs": [
    {
     "name": "stdout",
     "output_type": "stream",
     "text": [
      "Training error rate: 0.48\n",
      "Test error rate: 0.67\n"
     ]
    }
   ],
   "source": [
    "from sklearn.linear_model import LinearRegression\n",
    "\n",
    "regr = LinearRegression()\n",
    "regr.fit(X_train, y_train_binarized)\n",
    "\n",
    "from sklearn.metrics import accuracy_score\n",
    "\n",
    "# Predict train data\n",
    "y_train_pred = label_binarizer.inverse_transform(np.array(regr.predict(X_train)))\n",
    "\n",
    "# The mean squared error\n",
    "print(\"Training error rate: %.2f\" % (1.-accuracy_score(y_train, y_train_pred)))\n",
    "\n",
    "\n",
    "# Predict test data\n",
    "y_pred = label_binarizer.inverse_transform(np.array(regr.predict(X_test)))\n",
    "\n",
    "# The mean squared error\n",
    "print(\"Test error rate: %.2f\" % (1.-accuracy_score(y_test, y_pred)))"
   ]
  },
  {
   "cell_type": "markdown",
   "metadata": {},
   "source": [
    "### Linear Discriminant Analysis"
   ]
  },
  {
   "cell_type": "code",
   "execution_count": 7,
   "metadata": {
    "collapsed": false
   },
   "outputs": [
    {
     "name": "stdout",
     "output_type": "stream",
     "text": [
      "Training error rate: 0.32\n",
      "Test error rate: 0.56\n"
     ]
    }
   ],
   "source": [
    "from sklearn.discriminant_analysis import LinearDiscriminantAnalysis\n",
    "\n",
    "clf = LinearDiscriminantAnalysis()\n",
    "clf.fit(X_train,y_train)\n",
    "\n",
    "from sklearn.metrics import accuracy_score\n",
    "\n",
    "# Predict train data\n",
    "y_train_pred = clf.predict(X_train)\n",
    "\n",
    "# The mean squared error\n",
    "print(\"Training error rate: %.2f\" % (1.-accuracy_score(y_train, y_train_pred)))\n",
    "\n",
    "# Predict test data\n",
    "y_pred = clf.predict(X_test)\n",
    "\n",
    "# The mean squared error\n",
    "print(\"Test error rate: %.2f\" % (1.-accuracy_score(y_test, y_pred)))"
   ]
  },
  {
   "cell_type": "markdown",
   "metadata": {},
   "source": [
    "### Quadratic Discriminant Analysis"
   ]
  },
  {
   "cell_type": "code",
   "execution_count": 8,
   "metadata": {
    "collapsed": false
   },
   "outputs": [
    {
     "name": "stdout",
     "output_type": "stream",
     "text": [
      "Training error rate: 0.01\n",
      "Test error rate: 0.53\n"
     ]
    }
   ],
   "source": [
    "from sklearn.discriminant_analysis import QuadraticDiscriminantAnalysis\n",
    "\n",
    "clf = QuadraticDiscriminantAnalysis()\n",
    "clf.fit(X_train,y_train)\n",
    "\n",
    "from sklearn.metrics import accuracy_score\n",
    "\n",
    "# Predict train data\n",
    "y_train_pred = clf.predict(X_train)\n",
    "\n",
    "# The mean squared error\n",
    "print(\"Training error rate: %.2f\" % (1.-accuracy_score(y_train, y_train_pred)))\n",
    "\n",
    "# Predict test data\n",
    "y_pred = clf.predict(X_test)\n",
    "\n",
    "# The mean squared error\n",
    "print(\"Test error rate: %.2f\" % (1.-accuracy_score(y_test, y_pred)))"
   ]
  },
  {
   "cell_type": "markdown",
   "metadata": {},
   "source": [
    "### Logistic Regression"
   ]
  },
  {
   "cell_type": "code",
   "execution_count": 11,
   "metadata": {
    "collapsed": false
   },
   "outputs": [
    {
     "ename": "ValueError",
     "evalue": "Solver lbfgs supports only l2 penalties, got l1 penalty.",
     "output_type": "error",
     "traceback": [
      "\u001b[0;31m---------------------------------------------------------------------------\u001b[0m",
      "\u001b[0;31mValueError\u001b[0m                                Traceback (most recent call last)",
      "\u001b[0;32m<ipython-input-11-50555f81ed87>\u001b[0m in \u001b[0;36m<module>\u001b[0;34m()\u001b[0m\n\u001b[1;32m      2\u001b[0m \u001b[0;34m\u001b[0m\u001b[0m\n\u001b[1;32m      3\u001b[0m \u001b[0mclf\u001b[0m \u001b[0;34m=\u001b[0m \u001b[0mLogisticRegression\u001b[0m\u001b[0;34m(\u001b[0m\u001b[0mpenalty\u001b[0m\u001b[0;34m=\u001b[0m\u001b[0;34m'l1'\u001b[0m\u001b[0;34m,\u001b[0m\u001b[0msolver\u001b[0m\u001b[0;34m=\u001b[0m\u001b[0;34m'lbfgs'\u001b[0m\u001b[0;34m,\u001b[0m\u001b[0mmulti_class\u001b[0m\u001b[0;34m=\u001b[0m\u001b[0;34m'multinomial'\u001b[0m\u001b[0;34m)\u001b[0m\u001b[0;34m\u001b[0m\u001b[0;34m\u001b[0m\u001b[0m\n\u001b[0;32m----> 4\u001b[0;31m \u001b[0mclf\u001b[0m\u001b[0;34m.\u001b[0m\u001b[0mfit\u001b[0m\u001b[0;34m(\u001b[0m\u001b[0mX_train\u001b[0m\u001b[0;34m,\u001b[0m\u001b[0my_train\u001b[0m\u001b[0;34m)\u001b[0m\u001b[0;34m\u001b[0m\u001b[0;34m\u001b[0m\u001b[0m\n\u001b[0m\u001b[1;32m      5\u001b[0m \u001b[0;34m\u001b[0m\u001b[0m\n\u001b[1;32m      6\u001b[0m \u001b[0;32mfrom\u001b[0m \u001b[0msklearn\u001b[0m\u001b[0;34m.\u001b[0m\u001b[0mmetrics\u001b[0m \u001b[0;32mimport\u001b[0m \u001b[0maccuracy_score\u001b[0m\u001b[0;34m\u001b[0m\u001b[0;34m\u001b[0m\u001b[0m\n",
      "\u001b[0;32m~/anaconda3/lib/python3.6/site-packages/sklearn/linear_model/logistic.py\u001b[0m in \u001b[0;36mfit\u001b[0;34m(self, X, y, sample_weight)\u001b[0m\n\u001b[1;32m   1177\u001b[0m \u001b[0;34m\u001b[0m\u001b[0m\n\u001b[1;32m   1178\u001b[0m         _check_solver_option(self.solver, self.multi_class, self.penalty,\n\u001b[0;32m-> 1179\u001b[0;31m                              self.dual)\n\u001b[0m\u001b[1;32m   1180\u001b[0m \u001b[0;34m\u001b[0m\u001b[0m\n\u001b[1;32m   1181\u001b[0m         \u001b[0;32mif\u001b[0m \u001b[0mself\u001b[0m\u001b[0;34m.\u001b[0m\u001b[0msolver\u001b[0m \u001b[0;34m==\u001b[0m \u001b[0;34m'liblinear'\u001b[0m\u001b[0;34m:\u001b[0m\u001b[0;34m\u001b[0m\u001b[0;34m\u001b[0m\u001b[0m\n",
      "\u001b[0;32m~/anaconda3/lib/python3.6/site-packages/sklearn/linear_model/logistic.py\u001b[0m in \u001b[0;36m_check_solver_option\u001b[0;34m(solver, multi_class, penalty, dual)\u001b[0m\n\u001b[1;32m    438\u001b[0m         \u001b[0;32mif\u001b[0m \u001b[0mpenalty\u001b[0m \u001b[0;34m!=\u001b[0m \u001b[0;34m'l2'\u001b[0m\u001b[0;34m:\u001b[0m\u001b[0;34m\u001b[0m\u001b[0;34m\u001b[0m\u001b[0m\n\u001b[1;32m    439\u001b[0m             raise ValueError(\"Solver %s supports only l2 penalties, \"\n\u001b[0;32m--> 440\u001b[0;31m                              \"got %s penalty.\" % (solver, penalty))\n\u001b[0m\u001b[1;32m    441\u001b[0m         \u001b[0;32mif\u001b[0m \u001b[0mdual\u001b[0m\u001b[0;34m:\u001b[0m\u001b[0;34m\u001b[0m\u001b[0;34m\u001b[0m\u001b[0m\n\u001b[1;32m    442\u001b[0m             raise ValueError(\"Solver %s supports only \"\n",
      "\u001b[0;31mValueError\u001b[0m: Solver lbfgs supports only l2 penalties, got l1 penalty."
     ]
    }
   ],
   "source": [
    "from sklearn.linear_model import LogisticRegression\n",
    "\n",
    "clf = LogisticRegression(solver='lbfgs',multi_class='multinomial')\n",
    "clf.fit(X_train,y_train)\n",
    "\n",
    "from sklearn.metrics import accuracy_score\n",
    "\n",
    "# Predict train data\n",
    "y_train_pred = clf.predict(X_train)\n",
    "\n",
    "# The mean squared error\n",
    "print(\"Training error rate: %.2f\" % (1.-accuracy_score(y_train, y_train_pred)))\n",
    "\n",
    "# Predict test data\n",
    "y_pred = clf.predict(X_test)\n",
    "\n",
    "# The mean squared error\n",
    "print(\"Test error rate: %.2f\" % (1.-accuracy_score(y_test, y_pred)))"
   ]
  },
  {
   "cell_type": "code",
   "execution_count": null,
   "metadata": {
    "collapsed": true
   },
   "outputs": [],
   "source": []
  }
 ],
 "metadata": {
  "kernelspec": {
   "display_name": "Python 3",
   "language": "python",
   "name": "python3"
  },
  "language_info": {
   "codemirror_mode": {
    "name": "ipython",
    "version": 3
   },
   "file_extension": ".py",
   "mimetype": "text/x-python",
   "name": "python",
   "nbconvert_exporter": "python",
   "pygments_lexer": "ipython3",
   "version": "3.6.8"
  }
 },
 "nbformat": 4,
 "nbformat_minor": 2
}
